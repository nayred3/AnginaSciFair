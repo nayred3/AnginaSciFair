{
 "cells": [
  {
   "cell_type": "code",
   "execution_count": 1,
   "id": "da7d7ead",
   "metadata": {},
   "outputs": [],
   "source": [
    "import pandas as pd \n",
    "from sklearn.model_selection import train_test_split \n",
    "from sklearn import metrics\n",
    "import seaborn as sn\n",
    "from sklearn.metrics import confusion_matrix\n",
    "import numpy as np\n",
    "from sklearn.ensemble import RandomForestClassifier\n",
    "import matplotlib.pyplot as plt\n",
    "from sklearn import tree"
   ]
  },
  {
   "cell_type": "code",
   "execution_count": 2,
   "id": "b7844bb8",
   "metadata": {},
   "outputs": [],
   "source": [
    "df =pd.read_csv(r'C:\\Users\\srith\\Desktop\\ScienceFair2022_2023\\AnginaCleaned.csv')"
   ]
  },
  {
   "cell_type": "code",
   "execution_count": 3,
   "id": "bc22492e",
   "metadata": {},
   "outputs": [
    {
     "data": {
      "text/plain": [
       "(225, 6)"
      ]
     },
     "execution_count": 3,
     "metadata": {},
     "output_type": "execute_result"
    }
   ],
   "source": [
    "df.shape"
   ]
  },
  {
   "cell_type": "code",
   "execution_count": 4,
   "id": "abed374b",
   "metadata": {},
   "outputs": [],
   "source": [
    "median_lad=int(df[df['lad'].notnull()]['lad'].median())\n",
    "median_rca=int(df[df['rca'].notnull()]['rca'].median())\n",
    "median_cx=int(df[df['cx'].notnull()]['cx'].median())\n",
    "median_score =int(df[df['score'].notnull()]['score'].median())\n",
    "median_vol =int(df[df['volumemm3'].notnull()]['volumemm3'].median())"
   ]
  },
  {
   "cell_type": "code",
   "execution_count": 5,
   "id": "1215bc0d",
   "metadata": {},
   "outputs": [],
   "source": [
    "df['lad'].fillna(median_lad, inplace=True)\n",
    "df['rca'].fillna(median_rca, inplace=True)\n",
    "df['cx'].fillna(median_cx, inplace=True)\n",
    "df['score'].fillna(median_score, inplace=True)\n",
    "df['volumemm3'].fillna(median_vol, inplace=True)"
   ]
  },
  {
   "cell_type": "code",
   "execution_count": 6,
   "id": "c97331e6",
   "metadata": {},
   "outputs": [],
   "source": [
    "driver_data = df"
   ]
  },
  {
   "cell_type": "code",
   "execution_count": 7,
   "id": "8ca01c54",
   "metadata": {},
   "outputs": [],
   "source": [
    "x_train, x_test = train_test_split(df, test_size = 0.1, random_state = 5)"
   ]
  },
  {
   "cell_type": "code",
   "execution_count": 8,
   "id": "dbdcc27c",
   "metadata": {},
   "outputs": [],
   "source": [
    "train_label = x_train['score']\n",
    "test_label = x_test['score']"
   ]
  },
  {
   "cell_type": "code",
   "execution_count": 9,
   "id": "401f1744",
   "metadata": {},
   "outputs": [],
   "source": [
    "x_train.drop(['score'], axis=1,inplace=True)\n",
    "x_test.drop(['score'], axis=1,inplace=True)"
   ]
  },
  {
   "cell_type": "code",
   "execution_count": 10,
   "id": "bbc5abb1",
   "metadata": {},
   "outputs": [],
   "source": [
    "model = RandomForestClassifier(n_estimators = 100)\n",
    "\n",
    "model.fit(x_train, train_label)\n",
    "\n",
    "#Predict the response for test dataset\n",
    "pred = model.predict(x_test)"
   ]
  },
  {
   "cell_type": "code",
   "execution_count": 11,
   "id": "6d5cde91",
   "metadata": {},
   "outputs": [
    {
     "name": "stdout",
     "output_type": "stream",
     "text": [
      "Accuracy: 91.30434782608695 %\n"
     ]
    }
   ],
   "source": [
    "print(\"Accuracy:\",(metrics.accuracy_score(test_label, pred)*100),\"%\")"
   ]
  },
  {
   "cell_type": "code",
   "execution_count": 12,
   "id": "9c9596a9",
   "metadata": {},
   "outputs": [],
   "source": [
    "cf_matrix = confusion_matrix(test_label, pred)"
   ]
  },
  {
   "cell_type": "code",
   "execution_count": 13,
   "id": "93d42953",
   "metadata": {},
   "outputs": [
    {
     "name": "stdout",
     "output_type": "stream",
     "text": [
      "{'0': {'precision': 1.0, 'recall': 1.0, 'f1-score': 1.0, 'support': 13}, '23': {'precision': 1.0, 'recall': 0.0, 'f1-score': 0.0, 'support': 1}, '24': {'precision': 0.0, 'recall': 1.0, 'f1-score': 0.0, 'support': 0}, '35': {'precision': 1.0, 'recall': 1.0, 'f1-score': 1.0, 'support': 1}, '61': {'precision': 1.0, 'recall': 1.0, 'f1-score': 1.0, 'support': 1}, '83': {'precision': 1.0, 'recall': 1.0, 'f1-score': 1.0, 'support': 1}, '89': {'precision': 1.0, 'recall': 1.0, 'f1-score': 1.0, 'support': 1}, '366': {'precision': 1.0, 'recall': 0.0, 'f1-score': 0.0, 'support': 1}, '385': {'precision': 1.0, 'recall': 1.0, 'f1-score': 1.0, 'support': 1}, '590': {'precision': 0.0, 'recall': 1.0, 'f1-score': 0.0, 'support': 0}, '675': {'precision': 1.0, 'recall': 1.0, 'f1-score': 1.0, 'support': 1}, '3053': {'precision': 1.0, 'recall': 1.0, 'f1-score': 1.0, 'support': 1}, '3743': {'precision': 1.0, 'recall': 1.0, 'f1-score': 1.0, 'support': 1}, 'accuracy': 0.9130434782608695, 'macro avg': {'precision': 0.8461538461538461, 'recall': 0.8461538461538461, 'f1-score': 0.6923076923076923, 'support': 23}, 'weighted avg': {'precision': 1.0, 'recall': 0.9130434782608695, 'f1-score': 0.9130434782608695, 'support': 23}}\n"
     ]
    }
   ],
   "source": [
    "cr = metrics.classification_report(test_label, pred, zero_division = 1, output_dict = True)\n",
    "print(cr)"
   ]
  },
  {
   "cell_type": "code",
   "execution_count": 14,
   "id": "1cccf223",
   "metadata": {},
   "outputs": [
    {
     "data": {
      "image/png": "[encoded data removed]",
      "text/plain": [
       "<Figure size 360x360 with 2 Axes>"
      ]
     },
     "metadata": {},
     "output_type": "display_data"
    }
   ],
   "source": [
    "sn.set(rc={'figure.figsize':(5,5)})\n",
    "sn.heatmap(pd.DataFrame(cr).iloc[:-1, :].T, annot=True)\n",
    "plt.savefig('class_report.png', dpi=300, bbox_inches='tight')"
   ]
  },
  {
   "cell_type": "code",
   "execution_count": null,
   "id": "70b06340",
   "metadata": {},
   "outputs": [],
   "source": []
  }
 ],
 "metadata": {
  "kernelspec": {
   "display_name": "Python 3",
   "language": "python",
   "name": "python3"
  },
  "language_info": {
   "codemirror_mode": {
    "name": "ipython",
    "version": 3
   },
   "file_extension": ".py",
   "mimetype": "text/x-python",
   "name": "python",
   "nbconvert_exporter": "python",
   "pygments_lexer": "ipython3",
   "version": "3.8.8"
  }
 },
 "nbformat": 4,
 "nbformat_minor": 5
}
